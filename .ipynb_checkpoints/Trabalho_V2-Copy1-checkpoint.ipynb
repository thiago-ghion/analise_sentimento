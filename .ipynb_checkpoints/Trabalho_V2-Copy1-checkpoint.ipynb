{
 "cells": [
  {
   "cell_type": "code",
   "execution_count": 1,
   "metadata": {},
   "outputs": [
    {
     "name": "stderr",
     "output_type": "stream",
     "text": [
      "Using TensorFlow backend.\n"
     ]
    }
   ],
   "source": [
    "import pandas as pd\n",
    "import matplotlib.pyplot as plt\n",
    "import numpy as np\n",
    "import re\n",
    "\n",
    "import time\n",
    "import datetime\n",
    "\n",
    "from keras.preprocessing.text import Tokenizer\n",
    "from keras.preprocessing.sequence import pad_sequences\n",
    "\n",
    "from nltk.tokenize.casual import TweetTokenizer\n",
    "import operator\n",
    "\n",
    "from gensim.models import KeyedVectors\n",
    "\n",
    "tokenizer = TweetTokenizer()"
   ]
  },
  {
   "cell_type": "markdown",
   "metadata": {},
   "source": [
    "#### Limpar e construir lista de tokens"
   ]
  },
  {
   "cell_type": "code",
   "execution_count": 2,
   "metadata": {},
   "outputs": [],
   "source": [
    "def definirLabel(item):\n",
    "    if item == 'Positivo':\n",
    "        return 1\n",
    "    else:\n",
    "        return 0"
   ]
  },
  {
   "cell_type": "code",
   "execution_count": 3,
   "metadata": {},
   "outputs": [],
   "source": [
    "def limparTextoAntesTokenizacao(texto):\n",
    "    patternUsuario = r'(\\@[^\\s]+)'\n",
    "    patternLink = r'http[s]?:\\/\\/[^\\s]+'\n",
    "    patternOutro = r'[^\\s]{0,}-[^\\s]{0,}-[^\\s]{0,}-[^\\s]{0,}-[^\\s]{0,}'\n",
    "    parte_1 = re.sub(patternUsuario, '', texto.lower())\n",
    "    parte_2 = re.sub(patternLink, '', parte_1)\n",
    "    parte_3 = re.sub(patternOutro, '', parte_2)\n",
    "    return parte_3"
   ]
  },
  {
   "cell_type": "code",
   "execution_count": 4,
   "metadata": {},
   "outputs": [],
   "source": [
    "def tokenValido(token):\n",
    "    patternConjunto = r'(.+)-(.+)-(.+)-(.+)-(.+)'\n",
    "    patternNumerico = r'\\d'\n",
    "    return not re.match(patternConjunto, token) and not re.match(patternNumerico, token)"
   ]
  },
  {
   "cell_type": "code",
   "execution_count": 5,
   "metadata": {},
   "outputs": [],
   "source": [
    "def printProgressBar (iteration, total, tempo, prefix = '', suffix = '', decimals = 1, length = 100, fill = '█', printEnd = \"\\r\"):\n",
    "    \"\"\"\n",
    "    Call in a loop to create terminal progress bar\n",
    "    @params:\n",
    "        iteration   - Required  : current iteration (Int)\n",
    "        total       - Required  : total iterations (Int)\n",
    "        prefix      - Optional  : prefix string (Str)\n",
    "        suffix      - Optional  : suffix string (Str)\n",
    "        decimals    - Optional  : positive number of decimals in percent complete (Int)\n",
    "        length      - Optional  : character length of bar (Int)\n",
    "        fill        - Optional  : bar fill character (Str)\n",
    "        printEnd    - Optional  : end character (e.g. \"\\r\", \"\\r\\n\") (Str)\n",
    "    \"\"\"\n",
    "    tempo_iteracao = time.time()\n",
    "    tempo_decorrido = str(datetime.timedelta(seconds=(tempo_iteracao - tempo))).split('.', 2)[0]\n",
    "    tempo_restante = str(datetime.timedelta(seconds=(((tempo_iteracao - tempo) / iteration) * (total - iteration)))).split('.', 2)[0]\n",
    "    percent = (\"{0:.\" + str(decimals) + \"f}\").format(100 * (iteration / float(total)))\n",
    "    filledLength = int(length * iteration // total)\n",
    "    bar = fill * filledLength + '-' * (length - filledLength)\n",
    "    print(f'\\r{prefix} |{bar}| {percent}% {suffix} Decorrido: {tempo_decorrido} Restante: {tempo_restante}', end = printEnd)\n",
    "    # Print New Line on Complete\n",
    "    if iteration == total: \n",
    "        print()"
   ]
  },
  {
   "cell_type": "code",
   "execution_count": 6,
   "metadata": {},
   "outputs": [],
   "source": [
    "labels = []\n",
    "texts = []\n",
    "\n",
    "df = pd.read_csv('data/NoThemeTweets.csv')\n",
    "\n",
    "texts = df.get('tweet_text').apply(limparTextoAntesTokenizacao).tolist()\n",
    "labels = df.get('sentiment').apply(definirLabel).tolist()"
   ]
  },
  {
   "cell_type": "markdown",
   "metadata": {},
   "source": [
    "### Exploração de dados"
   ]
  },
  {
   "cell_type": "code",
   "execution_count": 7,
   "metadata": {},
   "outputs": [],
   "source": [
    "texts_puro = df.get('tweet_text').tolist()\n",
    "\n",
    "def temPadrao(texto):\n",
    "    texto_lower = texto.lower()\n",
    "    patternUsuario = r'(\\@[^\\s]+)'\n",
    "    patternLink = r'http[s]?:\\/\\/[^\\s]+'\n",
    "    patternOutro = r'[^\\s]{0,}-[^\\s]{0,}-[^\\s]{0,}-[^\\s]{0,}-[^\\s]{0,}'\n",
    "    patternConjunto = r'(.+)-(.+)-(.+)-(.+)-(.+)'\n",
    "    patternNumerico = r'\\d'\n",
    "    return re.match(patternUsuario, texto_lower) or re.match(patternLink, texto_lower) or re.match(patternOutro, texto_lower) or re.match(patternConjunto, texto_lower) or re.match(patternNumerico, texto_lower) \n",
    "\n",
    "lista_tokens_puros = [tokenizer.tokenize(item) for item in texts_puro]\n"
   ]
  },
  {
   "cell_type": "code",
   "execution_count": 8,
   "metadata": {},
   "outputs": [
    {
     "name": "stdout",
     "output_type": "stream",
     "text": [
      "Progress: |██████████████████████████████████████████████████| 100.0% Complete Decorrido: 0:04:18 Restante: 0:00:0039:35383\n"
     ]
    }
   ],
   "source": [
    "lista_tokens_filtrados = {}\n",
    "lista_tokens_total = {}\n",
    "\n",
    "total = len(lista_tokens_puros)\n",
    "posicao = 0\n",
    "tempo_inicial = time.time()\n",
    "\n",
    "for x, item in list(enumerate(lista_tokens_puros)):\n",
    "    posicao += 1\n",
    "    for y, subitem in list(enumerate(item)):\n",
    "        quantidade_total = 0\n",
    "        try:\n",
    "            quantidade_total = lista_tokens_total[subitem]\n",
    "        except KeyError:\n",
    "            pass\n",
    "        lista_tokens_total[subitem] = quantidade_total + 1\n",
    "        \n",
    "        if temPadrao(subitem):\n",
    "            quantidade = 0\n",
    "            try:\n",
    "                quantidade = lista_tokens_filtrados[subitem]\n",
    "            except KeyError:\n",
    "                pass\n",
    "            lista_tokens_filtrados[subitem] = quantidade + 1\n",
    "    printProgressBar(posicao, total, prefix = 'Progress:', suffix = 'Complete', length = 50, tempo=tempo_inicial)"
   ]
  },
  {
   "cell_type": "code",
   "execution_count": 9,
   "metadata": {},
   "outputs": [],
   "source": [
    "tokens_puros_filtrados_ordem = {k: v for k, v in sorted(lista_tokens_filtrados.items(), reverse=True, key=lambda item: item[1])}\n",
    "tokens_puros_total_ordem = {k: v for k, v in sorted(lista_tokens_total.items(), reverse=True, key=lambda item: item[1])}"
   ]
  },
  {
   "cell_type": "code",
   "execution_count": 10,
   "metadata": {},
   "outputs": [
    {
     "name": "stdout",
     "output_type": "stream",
     "text": [
      "10 tokens de usuários mais frequentes: \n",
      "[('@BTS_twt', 4377), ('@YouTube', 2269), ('@NetflixBrasil', 428), ('@jairbolsonaro', 427), ('@thalitameneghim', 416), ('@8', 351), ('@bchartsnet', 321), ('@cirogomes', 308), ('@jaoromania', 230), ('@CentralDeFasLS', 218)]\n",
      "\n",
      "Total de utilização de tokens de usuário: 476895\n",
      "Quantidade total de tokens de usuário: 263170\n"
     ]
    },
    {
     "data": {
      "image/png": "[encoded data removed]",
      "text/plain": [
       "<Figure size 1440x360 with 1 Axes>"
      ]
     },
     "metadata": {
      "needs_background": "light"
     },
     "output_type": "display_data"
    }
   ],
   "source": [
    "lista_usuarios = [item for item in tokens_puros_filtrados_ordem.items() if re.match(r'(\\@[^\\s]+)', item[0])]\n",
    "print('10 tokens de usuários mais frequentes: \\n{}\\n'.format(lista_usuarios[0:10]))\n",
    "print('Total de utilização de tokens de usuário: {}'.format(sum([i[1] for i in lista_usuarios])))\n",
    "print('Quantidade total de tokens de usuário: {}'.format(len(lista_usuarios)))\n",
    "\n",
    "rotulos = [item[0] for item in lista_usuarios][0:10]\n",
    "valores = [item[1] for item in lista_usuarios][0:10]\n",
    "plt.figure(figsize=(20,5))\n",
    "plt.title('Distribuição marcações de usuários')\n",
    "plt.bar(rotulos, valores)\n",
    "plt.plot()\n",
    "plt.show()"
   ]
  },
  {
   "cell_type": "code",
   "execution_count": 11,
   "metadata": {},
   "outputs": [
    {
     "name": "stdout",
     "output_type": "stream",
     "text": [
      "10 tokens de URL mais frequentes: \n",
      "[('https://t.co/5yUsfK64x1', 247), ('https://t.co/GFEtjtuyDH', 63), ('https://t.co/mG9Zemhzne', 42), ('https://t.co/PD00Zyq91y', 41), ('https://t.co/SCnfoc0RnV', 41), ('https://t.co/Jcd6Dm7cqz', 39), ('https://t.co/JsItdiRWLz', 39), ('https://t.co/rWqJfi7vg6', 39), ('https://t.co/Y86GW0ZiAY', 37), ('https://t.co/eYt0Y2wKNg', 36)]\n",
      "\n",
      "Total de utilização de tokens de URL: 149888\n",
      "Quantidade total de tokens de URL: 146026\n"
     ]
    },
    {
     "data": {
      "image/png": "[encoded data removed]",
      "text/plain": [
       "<Figure size 1440x360 with 1 Axes>"
      ]
     },
     "metadata": {
      "needs_background": "light"
     },
     "output_type": "display_data"
    }
   ],
   "source": [
    "lista_url_total = [item for item in tokens_puros_filtrados_ordem.items() if re.match(r'http[s]?:\\/\\/[^\\s]+', item[0])]\n",
    "\n",
    "print('10 tokens de URL mais frequentes: \\n{}\\n'.format(lista_url_total[0:10]))\n",
    "print('Total de utilização de tokens de URL: {}'.format(sum([i[1] for i in lista_url_total])))\n",
    "print('Quantidade total de tokens de URL: {}'.format(len(lista_url_total)))\n",
    "\n",
    "rotulos = [item[0] for item in lista_url_total][0:10]\n",
    "valores = [item[1] for item in lista_url_total][0:10]\n",
    "plt.figure(figsize=(20,5))\n",
    "plt.title('Distribuição de URL')\n",
    "plt.barh(rotulos, valores)\n",
    "plt.plot()\n",
    "plt.show()"
   ]
  },
  {
   "cell_type": "code",
   "execution_count": 12,
   "metadata": {},
   "outputs": [
    {
     "name": "stdout",
     "output_type": "stream",
     "text": [
      "Quantidade de registros positivos: 263107\n",
      "\n",
      "Quantidade de registros negativos: 522707\n",
      "\n"
     ]
    },
    {
     "data": {
      "image/png": "[encoded data removed]",
      "text/plain": [
       "<Figure size 432x288 with 1 Axes>"
      ]
     },
     "metadata": {
      "needs_background": "light"
     },
     "output_type": "display_data"
    }
   ],
   "source": [
    "print('Quantidade de registros positivos: {}\\n'.format(labels.count(1)))\n",
    "print('Quantidade de registros negativos: {}\\n'.format(labels.count(0)))\n",
    "\n",
    "rotulos = ['Positivo', 'Negativo']\n",
    "valores = [labels.count(1), labels.count(0)]\n",
    "plt.title('Distribuição Sentimentos')\n",
    "plt.bar(rotulos, valores)\n",
    "plt.show()"
   ]
  },
  {
   "cell_type": "markdown",
   "metadata": {},
   "source": [
    "### Tratamento do texto"
   ]
  },
  {
   "cell_type": "code",
   "execution_count": 13,
   "metadata": {},
   "outputs": [],
   "source": [
    "def tokenizar_texto(lista):\n",
    "    lista_tokens = []\n",
    "    total = len(lista)\n",
    "    posicao = 0\n",
    "    tempo_inicial = time.time()\n",
    "    for linha in lista:\n",
    "        posicao += 1\n",
    "        tokens = [item for item in tokenizer.tokenize(linha) if tokenValido(item)];\n",
    "        lista_tokens.append(tokens)\n",
    "        printProgressBar(posicao, total, prefix = 'Progress:', suffix = 'Complete', length = 50, tempo=tempo_inicial)\n",
    "    return lista_tokens"
   ]
  },
  {
   "cell_type": "code",
   "execution_count": 14,
   "metadata": {},
   "outputs": [],
   "source": [
    "def tratar_lista_token(lista_tokens):\n",
    "    lista_tokens_padding = []\n",
    "    dicionario_posicao_tokens = {}\n",
    "    dicionario_frequencia_tokens = {}\n",
    "    \n",
    "    total = len(lista_tokens)\n",
    "    posicao = 0\n",
    "    tempo_inicial = time.time()\n",
    "    \n",
    "    for item in lista_tokens:\n",
    "        posicao = posicao + 1\n",
    "        item_modificado = []\n",
    "        if len(item) > quantidade_limite_tokens:\n",
    "            item_modificado = item[:quantidade_limite_tokens]\n",
    "        else:\n",
    "            item_modificado = item + (['UNK'] * (quantidade_limite_tokens - len(item)))\n",
    "\n",
    "        lista_tokens_padding.append(item_modificado)\n",
    "    \n",
    "        for subitem in item_modificado:\n",
    "            dicionario_posicao_tokens[subitem] = 0\n",
    "            quantidade = 0\n",
    "            try:\n",
    "                quantidade = dicionario_frequencia_tokens[subitem]\n",
    "            except KeyError:\n",
    "                pass\n",
    "            dicionario_frequencia_tokens[subitem] = quantidade + 1\n",
    "        printProgressBar(posicao, total, prefix = 'Progress:', suffix = 'Complete', length = 50, tempo=tempo_inicial)\n",
    "\n",
    "    \n",
    "    return lista_tokens_padding, dicionario_posicao_tokens, dicionario_frequencia_tokens"
   ]
  },
  {
   "cell_type": "code",
   "execution_count": 15,
   "metadata": {},
   "outputs": [],
   "source": [
    "quantidade_limite_tokens = 60;\n",
    "dicionario_frequencia_tokens = {}\n",
    "dicionario_posicao_tokens = {}\n",
    "lista_tokens_padding = []"
   ]
  },
  {
   "cell_type": "code",
   "execution_count": 16,
   "metadata": {},
   "outputs": [
    {
     "name": "stdout",
     "output_type": "stream",
     "text": [
      "Progress: |██████████████████████████████████████████████████| 100.0% Complete Decorrido: 0:08:20 Restante: 0:00:00\n"
     ]
    }
   ],
   "source": [
    "lista_tokens = tokenizar_texto(texts);"
   ]
  },
  {
   "cell_type": "code",
   "execution_count": 17,
   "metadata": {},
   "outputs": [],
   "source": [
    "## Remover os tweets que ficaram sem nenhum token após o processo de limpeza\n",
    "\n",
    "posicao = 0\n",
    "for item in lista_tokens:\n",
    "    if len(item) == 0:\n",
    "        del lista_tokens[posicao]\n",
    "        del labels[posicao]\n",
    "    posicao += 1\n"
   ]
  },
  {
   "cell_type": "code",
   "execution_count": 18,
   "metadata": {},
   "outputs": [
    {
     "name": "stdout",
     "output_type": "stream",
     "text": [
      "Progress: |██████████████████████████████████████████████████| 100.0% Complete Decorrido: 0:02:12 Restante: 0:00:00\n"
     ]
    }
   ],
   "source": [
    "distribuicao_frequencia_token = {}\n",
    "\n",
    "def calcular_frequencia_token():\n",
    "    total = len(lista_tokens)\n",
    "    posicao = 0\n",
    "    tempo_inicial = time.time()\n",
    "    \n",
    "    for item in lista_tokens:\n",
    "        posicao = posicao + 1\n",
    "        \n",
    "        total_item = len(item)\n",
    "        quantidade = 0\n",
    "        try:\n",
    "            quantidade = distribuicao_frequencia_token[total_item]\n",
    "        except KeyError:\n",
    "            pass\n",
    "        distribuicao_frequencia_token[total_item] = quantidade + 1\n",
    "        printProgressBar(posicao, total, prefix = 'Progress:', suffix = 'Complete', length = 50, tempo=tempo_inicial)\n",
    "\n",
    "calcular_frequencia_token()       \n",
    "\n"
   ]
  },
  {
   "cell_type": "code",
   "execution_count": 19,
   "metadata": {},
   "outputs": [
    {
     "name": "stdout",
     "output_type": "stream",
     "text": [
      "Quantidade de tweets <= 60 tokens: 783845\n",
      "\n",
      "Quantidade de tweets > 60 tokens: 1949\n",
      "\n"
     ]
    },
    {
     "data": {
      "image/png": "[encoded data removed]",
      "text/plain": [
       "<Figure size 1440x360 with 1 Axes>"
      ]
     },
     "metadata": {
      "needs_background": "light"
     },
     "output_type": "display_data"
    }
   ],
   "source": [
    "print('Quantidade de tweets <= 60 tokens: {}\\n'.format(sum([item[1] for item in distribuicao_frequencia_token.items() if item[0] <= 60])))\n",
    "print('Quantidade de tweets > 60 tokens: {}\\n'.format(sum([item[1] for item in distribuicao_frequencia_token.items() if item[0] > 60])))\n",
    "\n",
    "rotulos = distribuicao_frequencia_token.keys()\n",
    "valores = distribuicao_frequencia_token.values()\n",
    "plt.figure(figsize=(20,5))\n",
    "plt.title('Distribuição de quantidade de tokens por tweet')\n",
    "plt.bar(rotulos, valores)\n",
    "plt.plot()\n",
    "plt.show()"
   ]
  },
  {
   "cell_type": "code",
   "execution_count": 20,
   "metadata": {},
   "outputs": [
    {
     "name": "stdout",
     "output_type": "stream",
     "text": [
      "Progress: |██████████████████████████████████████████████████| 100.0% Complete Decorrido: 0:02:47 Restante: 0:00:00\n"
     ]
    }
   ],
   "source": [
    "lista_tokens_padding, dicionario_posicao_tokens, dicionario_frequencia_tokens = tratar_lista_token(lista_tokens)"
   ]
  },
  {
   "cell_type": "markdown",
   "metadata": {},
   "source": [
    "#### Construir modelo Word2Vec"
   ]
  },
  {
   "cell_type": "code",
   "execution_count": 21,
   "metadata": {},
   "outputs": [],
   "source": [
    "from gensim.models import Word2Vec\n",
    "from sklearn.manifold import TSNE\n",
    "from random import shuffle"
   ]
  },
  {
   "cell_type": "code",
   "execution_count": 22,
   "metadata": {},
   "outputs": [],
   "source": [
    "quantidade_dimensoes = 400"
   ]
  },
  {
   "cell_type": "code",
   "execution_count": 23,
   "metadata": {},
   "outputs": [],
   "source": [
    "def display_closestwords_tsnescatterplot(model, word, size):\n",
    "    \n",
    "    arr = np.empty((0,size), dtype='f')\n",
    "    word_labels = [word]\n",
    "    close_words = model.similar_by_word(word)\n",
    "    arr = np.append(arr, np.array([model[word]]), axis=0)\n",
    "    for wrd_score in close_words:\n",
    "        wrd_vector = model[wrd_score[0]]\n",
    "        word_labels.append(wrd_score[0])\n",
    "        arr = np.append(arr, np.array([wrd_vector]), axis=0)\n",
    "        \n",
    "    tsne = TSNE(n_components=2, random_state=0)\n",
    "    np.set_printoptions(suppress=True)\n",
    "    Y = tsne.fit_transform(arr)\n",
    "    x_coords = Y[:, 0]\n",
    "    y_coords = Y[:, 1]\n",
    "    plt.figure(figsize=(20,5))\n",
    "    plt.scatter(x_coords, y_coords)\n",
    "    for label, x, y in zip(word_labels, x_coords, y_coords):\n",
    "        plt.annotate(label, xy=(x, y), xytext=(0, 0), textcoords='offset points')\n",
    "    plt.xlim(x_coords.min()+0.00005, x_coords.max()+0.00005)\n",
    "    plt.ylim(y_coords.min()+0.00005, y_coords.max()+0.00005)\n",
    "    plt.show()"
   ]
  },
  {
   "cell_type": "code",
   "execution_count": 24,
   "metadata": {},
   "outputs": [],
   "source": [
    "model_word2vec = Word2Vec(lista_tokens, size=quantidade_dimensoes)\n",
    "model_word2vec.save(\"word2vec.model\")"
   ]
  },
  {
   "cell_type": "code",
   "execution_count": 25,
   "metadata": {},
   "outputs": [
    {
     "name": "stderr",
     "output_type": "stream",
     "text": [
      "/usr/local/lib/python3.7/site-packages/ipykernel_launcher.py:5: DeprecationWarning: Call to deprecated `similar_by_word` (Method will be removed in 4.0.0, use self.wv.similar_by_word() instead).\n",
      "  \"\"\"\n",
      "/usr/local/lib/python3.7/site-packages/ipykernel_launcher.py:6: DeprecationWarning: Call to deprecated `__getitem__` (Method will be removed in 4.0.0, use self.wv.__getitem__() instead).\n",
      "  \n",
      "/usr/local/lib/python3.7/site-packages/ipykernel_launcher.py:8: DeprecationWarning: Call to deprecated `__getitem__` (Method will be removed in 4.0.0, use self.wv.__getitem__() instead).\n",
      "  \n"
     ]
    },
    {
     "data": {
      "image/png": "[encoded data removed]",
      "text/plain": [
       "<Figure size 1440x360 with 1 Axes>"
      ]
     },
     "metadata": {
      "needs_background": "light"
     },
     "output_type": "display_data"
    }
   ],
   "source": [
    "display_closestwords_tsnescatterplot(model_word2vec, 'feliz', quantidade_dimensoes)"
   ]
  },
  {
   "cell_type": "code",
   "execution_count": 26,
   "metadata": {},
   "outputs": [
    {
     "name": "stderr",
     "output_type": "stream",
     "text": [
      "/usr/local/lib/python3.7/site-packages/ipykernel_launcher.py:7: DeprecationWarning: Call to deprecated `__getitem__` (Method will be removed in 4.0.0, use self.wv.__getitem__() instead).\n",
      "  import sys\n"
     ]
    }
   ],
   "source": [
    "embedding_matrix = np.zeros((len(dicionario_posicao_tokens) + 1, quantidade_dimensoes))\n",
    "posicao = 1;\n",
    "\n",
    "for key in dicionario_posicao_tokens.keys():\n",
    "    dicionario_posicao_tokens[key] = posicao;\n",
    "    try:\n",
    "        embedding_matrix[posicao] = model_word2vec[key]\n",
    "    except KeyError:\n",
    "        pass\n",
    "    posicao += 1  "
   ]
  },
  {
   "cell_type": "code",
   "execution_count": 27,
   "metadata": {},
   "outputs": [],
   "source": [
    "def codificar_lista(lista_tokens):\n",
    "    lista_codificada_tokens = np.zeros((len(lista_tokens),quantidade_limite_tokens))\n",
    "\n",
    "    for x, item in list(enumerate(lista_tokens)):\n",
    "        for y, subitem in list(enumerate(item)):\n",
    "                if y < quantidade_limite_tokens:\n",
    "                    try:\n",
    "                        lista_codificada_tokens[x, y] = dicionario_posicao_tokens[subitem]\n",
    "                    except KeyError:\n",
    "                        pass\n",
    "    \n",
    "    return lista_codificada_tokens"
   ]
  },
  {
   "cell_type": "code",
   "execution_count": 28,
   "metadata": {},
   "outputs": [],
   "source": [
    "lista_codificada_tokens = codificar_lista(lista_tokens)"
   ]
  },
  {
   "cell_type": "markdown",
   "metadata": {},
   "source": [
    "#### Preparação dados de treino e validação"
   ]
  },
  {
   "cell_type": "code",
   "execution_count": 29,
   "metadata": {},
   "outputs": [],
   "source": [
    "quantidade_treino = int(len(lista_codificada_tokens) * 0.8)"
   ]
  },
  {
   "cell_type": "code",
   "execution_count": 30,
   "metadata": {},
   "outputs": [
    {
     "name": "stdout",
     "output_type": "stream",
     "text": [
      "Shape da lista_codificada_tokens tensor: (785794, 60)\n",
      "Shape do label tensor: (785794,)\n"
     ]
    }
   ],
   "source": [
    "labels = np.asarray(labels)\n",
    "\n",
    "print('Shape da lista_codificada_tokens tensor:', lista_codificada_tokens.shape)\n",
    "print('Shape do label tensor:', labels.shape)\n",
    "\n",
    "indices = np.arange(lista_codificada_tokens.shape[0])\n",
    "np.random.shuffle(indices)\n",
    "\n",
    "data_shuffle = lista_codificada_tokens[indices]\n",
    "labels_shuffle = labels[indices]"
   ]
  },
  {
   "cell_type": "code",
   "execution_count": 31,
   "metadata": {},
   "outputs": [],
   "source": [
    "x_train = data_shuffle[:quantidade_treino]\n",
    "y_train = labels_shuffle[:quantidade_treino]\n",
    "x_val = data_shuffle[quantidade_treino:]\n",
    "y_val = labels_shuffle[quantidade_treino:]"
   ]
  },
  {
   "cell_type": "markdown",
   "metadata": {},
   "source": [
    "#### Rede Neural"
   ]
  },
  {
   "cell_type": "code",
   "execution_count": 32,
   "metadata": {},
   "outputs": [],
   "source": [
    "quantidade_vocabulario = len(embedding_matrix)"
   ]
  },
  {
   "cell_type": "code",
   "execution_count": 33,
   "metadata": {},
   "outputs": [
    {
     "name": "stdout",
     "output_type": "stream",
     "text": [
      "Model: \"sequential_1\"\n",
      "_________________________________________________________________\n",
      "Layer (type)                 Output Shape              Param #   \n",
      "=================================================================\n",
      "embedding_1 (Embedding)      (None, 60, 400)           71814800  \n",
      "_________________________________________________________________\n",
      "flatten_1 (Flatten)          (None, 24000)             0         \n",
      "_________________________________________________________________\n",
      "dense_1 (Dense)              (None, 1)                 24001     \n",
      "_________________________________________________________________\n",
      "dense_2 (Dense)              (None, 1)                 2         \n",
      "=================================================================\n",
      "Total params: 71,838,803\n",
      "Trainable params: 24,003\n",
      "Non-trainable params: 71,814,800\n",
      "_________________________________________________________________\n"
     ]
    }
   ],
   "source": [
    "from keras.models import Sequential\n",
    "from keras.layers import Embedding, Flatten, Dense\n",
    "\n",
    "model = Sequential()\n",
    "model.add(Embedding(quantidade_vocabulario, quantidade_dimensoes, input_length=quantidade_limite_tokens))\n",
    "model.add(Flatten())\n",
    "model.add(Dense(1, activation='relu'))\n",
    "model.add(Dense(1, activation='sigmoid'))\n",
    "\n",
    "model.layers[0].set_weights([embedding_matrix])\n",
    "model.layers[0].trainable = False\n",
    "\n",
    "model.summary()"
   ]
  },
  {
   "cell_type": "code",
   "execution_count": 34,
   "metadata": {},
   "outputs": [
    {
     "name": "stdout",
     "output_type": "stream",
     "text": [
      "Train on 440044 samples, validate on 188591 samples\n",
      "Epoch 1/5\n",
      "440044/440044 [==============================] - 51s 116us/step - loss: 0.1277 - acc: 0.9800 - val_loss: 0.0375 - val_acc: 0.9907\n",
      "Epoch 2/5\n",
      "440044/440044 [==============================] - 51s 117us/step - loss: 0.0277 - acc: 0.9930 - val_loss: 0.0296 - val_acc: 0.9927\n",
      "Epoch 3/5\n",
      "440044/440044 [==============================] - 51s 116us/step - loss: 0.0200 - acc: 0.9947 - val_loss: 0.0272 - val_acc: 0.9937\n",
      "Epoch 4/5\n",
      "440044/440044 [==============================] - 49s 112us/step - loss: 0.0157 - acc: 0.9958 - val_loss: 0.0264 - val_acc: 0.9941\n",
      "Epoch 5/5\n",
      "440044/440044 [==============================] - 50s 114us/step - loss: 0.0131 - acc: 0.9967 - val_loss: 0.0274 - val_acc: 0.9944\n"
     ]
    }
   ],
   "source": [
    "model.compile(optimizer='rmsprop',\n",
    "loss='binary_crossentropy',\n",
    "metrics=['acc'])\n",
    "history = model.fit(x_train, y_train,\n",
    "epochs=5,\n",
    "batch_size=64,\n",
    "validation_split=0.3)\n",
    "model.save_weights('pre_trained_word2vec_model.h5')"
   ]
  },
  {
   "cell_type": "code",
   "execution_count": 47,
   "metadata": {},
   "outputs": [
    {
     "data": {
      "image/png": "[encoded data removed]",
      "text/plain": [
       "<Figure size 1440x288 with 2 Axes>"
      ]
     },
     "metadata": {
      "needs_background": "light"
     },
     "output_type": "display_data"
    }
   ],
   "source": [
    "acc = history.history['acc']\n",
    "val_acc = history.history['val_acc']\n",
    "loss = history.history['loss']\n",
    "val_loss = history.history['val_loss']\n",
    "epochs = range(1, len(acc) + 1)\n",
    "\n",
    "plt.figure(figsize=(20, 4))\n",
    "\n",
    "plt.subplot(121)\n",
    "plt.plot(epochs, acc, 'bo', label='Training acc')\n",
    "plt.plot(epochs, val_acc, 'b', label='Validation acc')\n",
    "plt.title('Training and validation accuracy')\n",
    "plt.legend()\n",
    "\n",
    "plt.subplot(122)\n",
    "plt.plot(epochs, loss, 'bo', label='Training loss')\n",
    "plt.plot(epochs, val_loss, 'b', label='Validation loss')\n",
    "plt.title('Training and validation loss')\n",
    "plt.legend()\n",
    "\n",
    "plt.show()"
   ]
  },
  {
   "cell_type": "code",
   "execution_count": 36,
   "metadata": {},
   "outputs": [],
   "source": [
    "from sklearn.metrics import classification_report\n",
    "from sklearn.metrics import confusion_matrix"
   ]
  },
  {
   "cell_type": "code",
   "execution_count": 37,
   "metadata": {},
   "outputs": [
    {
     "name": "stdout",
     "output_type": "stream",
     "text": [
      "              precision    recall  f1-score   support\n",
      "\n",
      "    Negativo       1.00      1.00      1.00    104250\n",
      "    Positivo       0.99      0.99      0.99     52909\n",
      "\n",
      "    accuracy                           0.99    157159\n",
      "   macro avg       0.99      0.99      0.99    157159\n",
      "weighted avg       0.99      0.99      0.99    157159\n",
      "\n"
     ]
    }
   ],
   "source": [
    "resultado_predicao = model.predict_classes(x_val)\n",
    "print(classification_report(y_val,resultado_predicao, target_names=['Negativo','Positivo']))"
   ]
  },
  {
   "cell_type": "code",
   "execution_count": 38,
   "metadata": {},
   "outputs": [
    {
     "data": {
      "image/png": "[encoded data removed]",
      "text/plain": [
       "<Figure size 432x288 with 2 Axes>"
      ]
     },
     "metadata": {
      "needs_background": "light"
     },
     "output_type": "display_data"
    }
   ],
   "source": [
    "labels_cm = ['Negativo', 'Positivo']\n",
    "\n",
    "cm = confusion_matrix(y_val, resultado_predicao)\n",
    "fig = plt.figure()\n",
    "ax = fig.add_subplot(111)\n",
    "cax = ax.matshow(cm)\n",
    "plt.title('Matriz de confusão do classificador\\n')\n",
    "fig.colorbar(cax)\n",
    "ax.set_xticklabels([''] + labels_cm)\n",
    "ax.set_yticklabels([''] + labels_cm)\n",
    "plt.xlabel('Predito')\n",
    "plt.ylabel('Verdadeiro')\n",
    "plt.show()"
   ]
  },
  {
   "cell_type": "markdown",
   "metadata": {},
   "source": [
    "### Teste Geral"
   ]
  },
  {
   "cell_type": "code",
   "execution_count": 39,
   "metadata": {},
   "outputs": [],
   "source": [
    "def predizerSentimento(frase):\n",
    "    texto_geral = [frase]\n",
    "    lista_tokens_geral = tokenizar_texto(texto_geral);\n",
    "    lista_tokens_padding_geral, dicionario_posicao_tokens_geral, dicionario_frequencia_tokens_geral = tratar_lista_token(lista_tokens_geral)\n",
    "    lista_codificada_tokens = codificar_lista(lista_tokens_geral)\n",
    "    \n",
    "    resultado = model.predict_classes(lista_codificada_tokens)\n",
    "    if resultado == 0:\n",
    "        print('Negativo')\n",
    "    else:\n",
    "        print('Positivo')\n",
    "    "
   ]
  },
  {
   "cell_type": "code",
   "execution_count": 40,
   "metadata": {},
   "outputs": [
    {
     "name": "stdout",
     "output_type": "stream",
     "text": [
      "Progress: |██████████████████████████████████████████████████| 100.0% Complete Decorrido: 0:00:00 Restante: 0:00:00\n",
      "Progress: |██████████████████████████████████████████████████| 100.0% Complete Decorrido: 0:00:00 Restante: 0:00:00\n",
      "Positivo\n"
     ]
    }
   ],
   "source": [
    "predizerSentimento('vc tá :)')"
   ]
  },
  {
   "cell_type": "code",
   "execution_count": 41,
   "metadata": {},
   "outputs": [
    {
     "name": "stdout",
     "output_type": "stream",
     "text": [
      "Progress: |██████████████████████████████████████████████████| 100.0% Complete Decorrido: 0:00:00 Restante: 0:00:00\n",
      "Progress: |██████████████████████████████████████████████████| 100.0% Complete Decorrido: 0:00:00 Restante: 0:00:00\n",
      "Negativo\n"
     ]
    }
   ],
   "source": [
    "predizerSentimento('vc tá :(')"
   ]
  },
  {
   "cell_type": "code",
   "execution_count": null,
   "metadata": {},
   "outputs": [],
   "source": []
  }
 ],
 "metadata": {
  "kernelspec": {
   "display_name": "Python 3",
   "language": "python",
   "name": "python3"
  },
  "language_info": {
   "codemirror_mode": {
    "name": "ipython",
    "version": 3
   },
   "file_extension": ".py",
   "mimetype": "text/x-python",
   "name": "python",
   "nbconvert_exporter": "python",
   "pygments_lexer": "ipython3",
   "version": "3.7.7"
  }
 },
 "nbformat": 4,
 "nbformat_minor": 4
}
